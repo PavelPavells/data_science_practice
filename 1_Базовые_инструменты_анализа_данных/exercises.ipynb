{
 "cells": [
  {
   "cell_type": "markdown",
   "metadata": {},
   "source": [
    "## Numpy"
   ]
  },
  {
   "cell_type": "markdown",
   "metadata": {},
   "source": [
    "Импортировать NumPy под именем np"
   ]
  },
  {
   "cell_type": "code",
   "execution_count": 2,
   "metadata": {},
   "outputs": [],
   "source": [
    "import numpy as np"
   ]
  },
  {
   "cell_type": "markdown",
   "metadata": {},
   "source": [
    "Создать вектор (одномерный массив) размера 10, заполненный нулями"
   ]
  },
  {
   "cell_type": "code",
   "execution_count": 3,
   "metadata": {},
   "outputs": [
    {
     "data": {
      "text/plain": [
       "array([0, 0, 0, 0, 0, 0, 0, 0, 0, 0])"
      ]
     },
     "execution_count": 3,
     "metadata": {},
     "output_type": "execute_result"
    }
   ],
   "source": [
    "vector0 = np.zeros(10, dtype='int')\n",
    "vector0\n"
   ]
  },
  {
   "cell_type": "markdown",
   "metadata": {},
   "source": [
    "Создать вектор размера 10, заполненный единицами"
   ]
  },
  {
   "cell_type": "code",
   "execution_count": 6,
   "metadata": {},
   "outputs": [
    {
     "name": "stdout",
     "output_type": "stream",
     "text": [
      "[1. 1. 1. 1. 1. 1. 1. 1. 1. 1.]\n",
      "[1 1 1 1 1 1 1 1 1 1]\n"
     ]
    }
   ],
   "source": [
    "vector1 = np.ones(10)\n",
    "print(vector1)\n",
    "vector_ones = np.ones(10, dtype='int')\n",
    "print(vector_ones)"
   ]
  },
  {
   "cell_type": "markdown",
   "metadata": {},
   "source": [
    "Создать вектор размера 10, заполненный числом 2.5"
   ]
  },
  {
   "cell_type": "code",
   "execution_count": 8,
   "metadata": {},
   "outputs": [
    {
     "name": "stdout",
     "output_type": "stream",
     "text": [
      "[2.5 2.5 2.5 2.5 2.5 2.5 2.5 2.5 2.5 2.5]\n",
      "[2.5 2.5 2.5 2.5 2.5 2.5 2.5 2.5 2.5 2.5]\n"
     ]
    }
   ],
   "source": [
    "vector_2 = np.full(10, 2.5)\n",
    "print(vector_2)\n",
    "vector_two = np.full(10, 2.5, dtype='float')\n",
    "print(vector_two)"
   ]
  },
  {
   "cell_type": "markdown",
   "metadata": {},
   "source": [
    "Создать вектор размера 10, заполненный нулями, но пятый элемент равен 1"
   ]
  },
  {
   "cell_type": "code",
   "execution_count": 9,
   "metadata": {},
   "outputs": [
    {
     "name": "stdout",
     "output_type": "stream",
     "text": [
      "[0. 0. 0. 0. 1. 0. 0. 0. 0. 0.]\n"
     ]
    }
   ],
   "source": [
    "vector_ten = np.zeros(10)\n",
    "vector_ten[4] = 1\n",
    "print(vector_ten)"
   ]
  },
  {
   "cell_type": "markdown",
   "metadata": {},
   "source": [
    "Развернуть вектор (первый становится последним)"
   ]
  },
  {
   "cell_type": "code",
   "execution_count": 13,
   "metadata": {},
   "outputs": [
    {
     "name": "stdout",
     "output_type": "stream",
     "text": [
      "[19. 18. 17. 16. 15. 14. 13. 12. 11. 10.  9.  8.  7.  6.  5.  4.  3.  2.\n",
      "  1.  0.]\n"
     ]
    }
   ],
   "source": [
    "vector_direct = np.linspace(2.0, 20.0,num = 10) # числа - по возрастанию\n",
    "vector_4 = vector_direct[::-1]\n",
    "vector_4 # теперь числа - в убывающем порядке\n",
    "\n",
    "vector_reverse = np.arange(20, dtype='float')\n",
    "value = vector_reverse[::-1]\n",
    "print(value)"
   ]
  },
  {
   "cell_type": "markdown",
   "metadata": {},
   "source": [
    "Создать матрицу (двумерный массив) 3x3 со значениями от 0 до 8"
   ]
  },
  {
   "cell_type": "code",
   "execution_count": 17,
   "metadata": {},
   "outputs": [
    {
     "name": "stdout",
     "output_type": "stream",
     "text": [
      "[[0 1 2]\n",
      " [3 4 5]\n",
      " [6 7 8]]\n",
      "[[0 1 2]\n",
      " [3 4 5]\n",
      " [6 7 8]]\n"
     ]
    }
   ],
   "source": [
    "array_2d = np.arange(0,9).reshape(3,3) # форма 2*2, но это все еще array\n",
    "matrix_1 = np.asmatrix(array_2d) # преобразуем к matrix\n",
    "print(matrix_1)\n",
    "\n",
    "array_2d2 = np.arange(0, 9).reshape(3, 3)\n",
    "print(array_2d2)"
   ]
  },
  {
   "cell_type": "markdown",
   "metadata": {},
   "source": [
    "Найти индексы ненулевых элементов в [1,2,0,0,4,0]"
   ]
  },
  {
   "cell_type": "code",
   "execution_count": 19,
   "metadata": {},
   "outputs": [
    {
     "name": "stdout",
     "output_type": "stream",
     "text": [
      "[0, 1, 4]\n",
      "[0, 1, 2, 3, 4, 5, 7, 9, 11, 13, 14]\n"
     ]
    }
   ],
   "source": [
    "# решение 1\n",
    "source = [1,2,0,0,4,0]\n",
    "non_zeros = []\n",
    "\n",
    "for i in range(0, len(source)):\n",
    "    if source[i] != 0:\n",
    "        non_zeros.append(i)\n",
    "\n",
    "print(non_zeros)\n",
    "\n",
    "source2 = [1,2,3,4,5,6,0,8,0,7,0,5,0,1,3,0]\n",
    "without_zeros = []\n",
    "for i in range(len(source2)):\n",
    "    if source2[i] != 0:\n",
    "        without_zeros.append(i)\n",
    "print(without_zeros)"
   ]
  },
  {
   "cell_type": "code",
   "execution_count": 20,
   "metadata": {},
   "outputs": [
    {
     "data": {
      "text/plain": [
       "[0, 1, 4]"
      ]
     },
     "execution_count": 20,
     "metadata": {},
     "output_type": "execute_result"
    }
   ],
   "source": [
    "# решение 2\n",
    "source = [1,2,0,0,4,0]\n",
    "non_zeros = []\n",
    "\n",
    "for index,value in enumerate(source):\n",
    "    if(value != 0):\n",
    "        non_zeros.append(index)\n",
    "\n",
    "non_zeros"
   ]
  },
  {
   "cell_type": "code",
   "execution_count": 21,
   "metadata": {},
   "outputs": [
    {
     "name": "stdout",
     "output_type": "stream",
     "text": [
      "(array([0, 1, 4], dtype=int64),)\n",
      "(array([ 0,  1,  2,  3,  4,  5,  7,  9, 11, 13, 14], dtype=int64),)\n"
     ]
    }
   ],
   "source": [
    "# решение 3\n",
    "source = [1,2,0,0,4,0]\n",
    "non_zeros = np.nonzero(source)\n",
    "print(non_zeros)\n",
    "source2 = [1,2,3,4,5,6,0,8,0,7,0,5,0,1,3,0]\n",
    "non_zero = np.nonzero(source2)\n",
    "print(non_zero)"
   ]
  },
  {
   "cell_type": "markdown",
   "metadata": {},
   "source": [
    "Создать 3x3 единичную матрицу"
   ]
  },
  {
   "cell_type": "code",
   "execution_count": 25,
   "metadata": {},
   "outputs": [
    {
     "name": "stdout",
     "output_type": "stream",
     "text": [
      "[[1. 1. 1.]\n",
      " [1. 1. 1.]\n",
      " [1. 1. 1.]]\n",
      "[[1. 1. 1.]\n",
      " [1. 1. 1.]\n",
      " [1. 1. 1.]]\n"
     ]
    }
   ],
   "source": [
    "matrix_ones = np.asmatrix( np.ones(3*3).reshape(3,3) )\n",
    "print(matrix_ones)\n",
    "matrix_ones2 = np.ones(3 * 3).reshape(3, 3)\n",
    "print(matrix_ones2)"
   ]
  },
  {
   "cell_type": "markdown",
   "metadata": {},
   "source": [
    "Создать массив 3x3x3 со случайными значениями"
   ]
  },
  {
   "cell_type": "code",
   "execution_count": 28,
   "metadata": {},
   "outputs": [
    {
     "name": "stdout",
     "output_type": "stream",
     "text": [
      "[[[0.19107391 0.55683736 0.87244832]\n",
      "  [0.18135394 0.53894435 0.73599461]\n",
      "  [0.36196498 0.11691695 0.00613971]]\n",
      "\n",
      " [[0.35099848 0.45190742 0.30664057]\n",
      "  [0.51586011 0.57985656 0.00949456]\n",
      "  [0.90510769 0.86553797 0.9026388 ]]\n",
      "\n",
      " [[0.47128464 0.69344163 0.82394739]\n",
      "  [0.2043243  0.64494472 0.28741834]\n",
      "  [0.63883716 0.58050581 0.39358616]]]\n",
      "[[[0.60984395 0.07831531 0.57833657]\n",
      "  [0.77626742 0.13414511 0.93506521]\n",
      "  [0.80245402 0.49061508 0.09253088]]\n",
      "\n",
      " [[0.05198783 0.90377693 0.89314158]\n",
      "  [0.29313762 0.48157777 0.22904927]\n",
      "  [0.9053221  0.33741858 0.1649056 ]]\n",
      "\n",
      " [[0.39573606 0.88951072 0.59057292]\n",
      "  [0.91872553 0.69550885 0.1264756 ]\n",
      "  [0.97544165 0.32671011 0.45949165]]]\n"
     ]
    }
   ],
   "source": [
    "# решение 1\n",
    "def random_value(x,y,z):\n",
    "    return np.random.rand(1)[0]\n",
    "    \n",
    "array_random_3 = np.fromfunction(np.vectorize(random_value), (3, 3, 3))\n",
    "print(array_random_3)\n",
    "array_random = np.random.rand(3, 3, 3)\n",
    "print(array_random)"
   ]
  },
  {
   "cell_type": "code",
   "execution_count": 13,
   "metadata": {},
   "outputs": [
    {
     "data": {
      "text/plain": [
       "array([[[0.30304629, 0.43341066, 0.28713713],\n",
       "        [0.92656348, 0.6613318 , 0.26027959],\n",
       "        [0.98272187, 0.84738208, 0.1393213 ]],\n",
       "\n",
       "       [[0.86470181, 0.71224362, 0.03914699],\n",
       "        [0.5650913 , 0.73959756, 0.52213175],\n",
       "        [0.66622885, 0.95969695, 0.5712402 ]],\n",
       "\n",
       "       [[0.28141643, 0.02208693, 0.49026649],\n",
       "        [0.61828124, 0.15831984, 0.13696301],\n",
       "        [0.10641165, 0.13348891, 0.12576553]]])"
      ]
     },
     "execution_count": 13,
     "metadata": {},
     "output_type": "execute_result"
    }
   ],
   "source": [
    "# решение 2\n",
    "array_random_3 = np.random.rand(3,3,3) # то же самое: np.random.random((3,3,3))\n",
    "array_random_3"
   ]
  },
  {
   "cell_type": "markdown",
   "metadata": {},
   "source": [
    "Создать случайный вектор размера 30 и найти среднее значение всех элементов"
   ]
  },
  {
   "cell_type": "code",
   "execution_count": 29,
   "metadata": {},
   "outputs": [
    {
     "name": "stdout",
     "output_type": "stream",
     "text": [
      "[0.37232255 0.58641108 0.57288521 0.15501336 0.991321   0.65071512\n",
      " 0.36648883 0.4922739  0.8864328  0.30886197 0.73636435 0.56034379\n",
      " 0.72008999 0.04270169 0.22275517 0.89244925 0.50876924 0.98670055\n",
      " 0.29907573 0.61977252 0.90663984 0.19801276 0.19161783 0.03969275\n",
      " 0.717564   0.37449017 0.46762141 0.0037189  0.43012963 0.9453143 ]\n",
      "[0.46778589 0.66440619 0.77934693 0.43931646 0.80752102 0.70693052\n",
      " 0.27847266 0.22387905 0.18652091 0.7222074  0.56803297 0.52305731\n",
      " 0.37383479 0.56409734 0.42184785 0.64178132 0.96037587 0.09727896\n",
      " 0.64731667 0.32098351 0.62676103 0.77537127 0.02765124 0.84105856\n",
      " 0.37589892 0.74874463 0.56822419 0.38073803 0.11747546 0.97097578]\n"
     ]
    }
   ],
   "source": [
    "vect_30 = np.random.rand(30)\n",
    "print(vect_30)\n",
    "result_avg = np.average(vect_30) # np.mean(vect_30) - то же самое\n",
    "result_avg\n",
    "vector = np.random.rand(30)\n",
    "vector.mean()\n",
    "print(vector)"
   ]
  },
  {
   "cell_type": "markdown",
   "metadata": {},
   "source": [
    "Перемножить матрицы 5x3 и 3x2"
   ]
  },
  {
   "cell_type": "code",
   "execution_count": 30,
   "metadata": {},
   "outputs": [
    {
     "data": {
      "text/plain": [
       "matrix([[0.57306605, 0.76896644],\n",
       "        [0.40334036, 0.56561543],\n",
       "        [0.73426195, 1.0658667 ],\n",
       "        [0.81853683, 1.31003474],\n",
       "        [0.69675188, 0.93841669]])"
      ]
     },
     "execution_count": 30,
     "metadata": {},
     "output_type": "execute_result"
    }
   ],
   "source": [
    "matrix_1 = np.asmatrix(np.random.rand(5,3))\n",
    "matrix_2 = np.asmatrix(np.random.rand(3,2))\n",
    "\n",
    "result_matrix = matrix_1 * matrix_2 # как вариант:  np.dot(matrix_1, matrix_2)\n",
    "\n",
    "result_matrix"
   ]
  },
  {
   "cell_type": "markdown",
   "metadata": {},
   "source": [
    "Создать вектор размера 10 со значениями от 0 до 1, не включая ни то, ни другое"
   ]
  },
  {
   "cell_type": "code",
   "execution_count": 31,
   "metadata": {},
   "outputs": [
    {
     "data": {
      "text/plain": [
       "array([0.09090909, 0.18181818, 0.27272727, 0.36363636, 0.45454545,\n",
       "       0.54545455, 0.63636364, 0.72727273, 0.81818182, 0.90909091])"
      ]
     },
     "execution_count": 31,
     "metadata": {},
     "output_type": "execute_result"
    }
   ],
   "source": [
    "result_vector = np.linspace(0,1,11, endpoint=False)[1:]\n",
    "result_vector"
   ]
  },
  {
   "cell_type": "markdown",
   "metadata": {},
   "source": [
    "Заменить максимальный элемент на ноль"
   ]
  },
  {
   "cell_type": "code",
   "execution_count": 32,
   "metadata": {},
   "outputs": [
    {
     "data": {
      "text/plain": [
       "array([1. , 1.1, 1.2, 0. , 1.4, 1.5, 1.6, 1.7, 1.8, 1.9])"
      ]
     },
     "execution_count": 32,
     "metadata": {},
     "output_type": "execute_result"
    }
   ],
   "source": [
    "source_vector = np.linspace(1,2,10, endpoint=False)\n",
    "source_vector[3] = sum(source_vector) # сделаем так, чтобы max_value - было где-то в центре\n",
    "source_vector[source_vector.argmax()] = 0\n",
    "source_vector"
   ]
  },
  {
   "cell_type": "markdown",
   "metadata": {},
   "source": [
    "Преобразовать массив из float в int"
   ]
  },
  {
   "cell_type": "code",
   "execution_count": 33,
   "metadata": {},
   "outputs": [
    {
     "data": {
      "text/plain": [
       "(array([0., 1., 2., 3., 4., 5., 6., 7., 8., 9.], dtype=float32),\n",
       " array([0, 1, 2, 3, 4, 5, 6, 7, 8, 9], dtype=int64))"
      ]
     },
     "execution_count": 33,
     "metadata": {},
     "output_type": "execute_result"
    }
   ],
   "source": [
    "source_array = np.arange(10, dtype=np.float32)\n",
    "result_array = source_array.astype(np.int64, copy = False)\n",
    "\n",
    "source_array, result_array"
   ]
  },
  {
   "cell_type": "markdown",
   "metadata": {},
   "source": [
    "Дан массив (10,2) координат, найти расстояние от каждой точки до каждой"
   ]
  },
  {
   "cell_type": "code",
   "execution_count": 34,
   "metadata": {},
   "outputs": [
    {
     "data": {
      "text/plain": [
       "array([[0.        , 0.4728996 , 0.60396373, 0.55894747, 0.50412264,\n",
       "        0.36322358, 0.196074  , 0.21839097, 0.63662628, 0.2225533 ],\n",
       "       [0.4728996 , 0.        , 0.87125787, 0.38566425, 0.93113574,\n",
       "        0.18250611, 0.58905737, 0.65156182, 0.69708086, 0.62055694],\n",
       "       [0.60396373, 0.87125787, 0.        , 0.62167078, 0.36708149,\n",
       "        0.87450229, 0.75614407, 0.72308619, 0.33431952, 0.39283347],\n",
       "       [0.55894747, 0.38566425, 0.62167078, 0.        , 0.82590021,\n",
       "        0.51092217, 0.74633856, 0.77732433, 0.35123504, 0.5616697 ],\n",
       "       [0.50412264, 0.93113574, 0.36708149, 0.82590021, 0.        ,\n",
       "        0.86011721, 0.56585759, 0.503787  , 0.65098553, 0.31066121],\n",
       "       [0.36322358, 0.18250611, 0.87450229, 0.51092217, 0.86011721,\n",
       "        0.        , 0.43321927, 0.50313132, 0.76801226, 0.55636821],\n",
       "       [0.196074  , 0.58905737, 0.75614407, 0.74633856, 0.56585759,\n",
       "        0.43321927, 0.        , 0.07738787, 0.82854176, 0.3639186 ],\n",
       "       [0.21839097, 0.65156182, 0.72308619, 0.77732433, 0.503787  ,\n",
       "        0.50313132, 0.07738787, 0.        , 0.82652222, 0.33779109],\n",
       "       [0.63662628, 0.69708086, 0.33431952, 0.35123504, 0.65098553,\n",
       "        0.76801226, 0.82854176, 0.82652222, 0.        , 0.50743607],\n",
       "       [0.2225533 , 0.62055694, 0.39283347, 0.5616697 , 0.31066121,\n",
       "        0.55636821, 0.3639186 , 0.33779109, 0.50743607, 0.        ]])"
      ]
     },
     "execution_count": 34,
     "metadata": {},
     "output_type": "execute_result"
    }
   ],
   "source": [
    "source_coords = np.random.random((10,2))\n",
    "\n",
    "import scipy.spatial\n",
    "distances = scipy.spatial.distance.cdist(source_coords, source_coords, metric='euclidean')\n",
    " \n",
    "distances"
   ]
  },
  {
   "cell_type": "markdown",
   "metadata": {},
   "source": [
    "Случайно расположить p элементов в 2D массив"
   ]
  },
  {
   "cell_type": "code",
   "execution_count": 35,
   "metadata": {},
   "outputs": [
    {
     "data": {
      "text/plain": [
       "array([[0.59865641, 0.23377447, 0.98799799],\n",
       "       [0.        , 0.        , 0.52910013],\n",
       "       [0.        , 0.93922198, 0.        ]])"
      ]
     },
     "execution_count": 35,
     "metadata": {},
     "output_type": "execute_result"
    }
   ],
   "source": [
    "# условие\n",
    "p = 5\n",
    "n = 3\n",
    "m = 3\n",
    "elements = np.random.random(p) # элементы, которые располагать\n",
    "result = np.zeros((n,m)) # массив, в который располагать элементы\n",
    "\n",
    "np.put(result, np.random.choice(range(n*m), p, replace=False),  elements)\n",
    "result"
   ]
  },
  {
   "cell_type": "markdown",
   "metadata": {},
   "source": [
    "Дан вектор [1, 2, 3, 4, 5], построить новый вектор с тремя нулями между каждым значением"
   ]
  },
  {
   "cell_type": "code",
   "execution_count": 36,
   "metadata": {},
   "outputs": [
    {
     "data": {
      "text/plain": [
       "array([1., 0., 0., 0., 2., 0., 0., 0., 3., 0., 0., 0., 4., 0., 0., 0., 5.])"
      ]
     },
     "execution_count": 36,
     "metadata": {},
     "output_type": "execute_result"
    }
   ],
   "source": [
    "source = np.array([1,2,3,4,5]) # исходный массив\n",
    "zero_count = 3 # кол-во нулей, которые располагать между элементами\n",
    "result = np.zeros(len(source) + (len(source)-1)*(zero_count)) # итоговый массив: создаем из нулей, и потом заменим нужные элементы из source\n",
    "result[::zero_count+1] = source # каждый элемент, который выпадает не на 0 - подставляем из исходного масива\n",
    "\n",
    "result"
   ]
  },
  {
   "cell_type": "markdown",
   "metadata": {},
   "source": [
    "Найти наиболее частое значение в массиве"
   ]
  },
  {
   "cell_type": "code",
   "execution_count": 37,
   "metadata": {},
   "outputs": [
    {
     "name": "stdout",
     "output_type": "stream",
     "text": [
      "[0 0 0 0 1 2 0 5 2]\n"
     ]
    },
    {
     "data": {
      "text/plain": [
       "7"
      ]
     },
     "execution_count": 37,
     "metadata": {},
     "output_type": "execute_result"
    }
   ],
   "source": [
    "source = np.random.randint(low = 4, high = 9, size = 10) # числа: min = low, max = high - 1. Всего 10 чисел\n",
    "occurances = np.bincount(source) # значение i-го элемента в массиве = кол-во раз, которое встречалось число i\n",
    "print(occurances)\n",
    "max_frequent = occurances.argmax() # в каком элементе массива наибольшее значение\n",
    "\n",
    "max_frequent"
   ]
  },
  {
   "cell_type": "markdown",
   "metadata": {},
   "source": [
    "Найти n наибольших значений в массиве"
   ]
  },
  {
   "cell_type": "code",
   "execution_count": 38,
   "metadata": {},
   "outputs": [
    {
     "name": "stdout",
     "output_type": "stream",
     "text": [
      "[7 9 2 2 6 4 7 8 8 4 1 8 1 7 3]\n",
      "[9 8 8 8 7 7 7 6 4 4 3 2 2 1 1]\n"
     ]
    },
    {
     "data": {
      "text/plain": [
       "array([9, 8, 8, 8, 7])"
      ]
     },
     "execution_count": 38,
     "metadata": {},
     "output_type": "execute_result"
    }
   ],
   "source": [
    "# решение = отсортировать по убыванию и взять первые n элементов\n",
    "n = 5\n",
    "source = np.random.randint(low = 1, high = 10, size = 15)\n",
    "print(source)\n",
    "sorted_array = np.flip(np.sort(source))\n",
    "print(sorted_array)\n",
    "result_array = sorted_array[:n]\n",
    "\n",
    "result_array"
   ]
  },
  {
   "cell_type": "markdown",
   "metadata": {},
   "source": [
    "## Pandas - изучение данных"
   ]
  },
  {
   "cell_type": "markdown",
   "metadata": {
    "collapsed": true
   },
   "source": [
    "Перейти по ссылке [Kaggle]( https://www.kaggle.com/openfoodfacts/world-food-facts)"
   ]
  },
  {
   "cell_type": "markdown",
   "metadata": {
    "collapsed": true
   },
   "source": [
    "Скачать датасет на свой компьютер и распаковать"
   ]
  },
  {
   "cell_type": "markdown",
   "metadata": {
    "collapsed": true
   },
   "source": [
    "Считать csv файл в датафрейм food"
   ]
  },
  {
   "cell_type": "code",
   "execution_count": 39,
   "metadata": {},
   "outputs": [],
   "source": [
    "import pandas as pd"
   ]
  },
  {
   "cell_type": "code",
   "execution_count": 40,
   "metadata": {},
   "outputs": [],
   "source": [
    "# en_openfoodfacts_org_products.tsv\n",
    "#food = pd.read_csv('../../data.csv', delimiter='\\t', encoding='utf-8', low_memory=False) # для загрузки нескольких строк - можно указать nrows=5\n",
    "food = pd.read_csv('../../data.csv', delimiter='\\t', low_memory=False)"
   ]
  },
  {
   "cell_type": "markdown",
   "metadata": {
    "collapsed": true
   },
   "source": [
    "Посмотреть первые 5 записей"
   ]
  },
  {
   "cell_type": "code",
   "execution_count": 41,
   "metadata": {},
   "outputs": [
    {
     "data": {
      "text/html": [
       "<div>\n",
       "<style scoped>\n",
       "    .dataframe tbody tr th:only-of-type {\n",
       "        vertical-align: middle;\n",
       "    }\n",
       "\n",
       "    .dataframe tbody tr th {\n",
       "        vertical-align: top;\n",
       "    }\n",
       "\n",
       "    .dataframe thead th {\n",
       "        text-align: right;\n",
       "    }\n",
       "</style>\n",
       "<table border=\"1\" class=\"dataframe\">\n",
       "  <thead>\n",
       "    <tr style=\"text-align: right;\">\n",
       "      <th></th>\n",
       "      <th>code</th>\n",
       "      <th>url</th>\n",
       "      <th>creator</th>\n",
       "      <th>created_t</th>\n",
       "      <th>created_datetime</th>\n",
       "      <th>last_modified_t</th>\n",
       "      <th>last_modified_datetime</th>\n",
       "      <th>product_name</th>\n",
       "      <th>generic_name</th>\n",
       "      <th>quantity</th>\n",
       "      <th>...</th>\n",
       "      <th>fruits-vegetables-nuts_100g</th>\n",
       "      <th>fruits-vegetables-nuts-estimate_100g</th>\n",
       "      <th>collagen-meat-protein-ratio_100g</th>\n",
       "      <th>cocoa_100g</th>\n",
       "      <th>chlorophyl_100g</th>\n",
       "      <th>carbon-footprint_100g</th>\n",
       "      <th>nutrition-score-fr_100g</th>\n",
       "      <th>nutrition-score-uk_100g</th>\n",
       "      <th>glycemic-index_100g</th>\n",
       "      <th>water-hardness_100g</th>\n",
       "    </tr>\n",
       "  </thead>\n",
       "  <tbody>\n",
       "    <tr>\n",
       "      <td>0</td>\n",
       "      <td>0000000003087</td>\n",
       "      <td>http://world-en.openfoodfacts.org/product/0000...</td>\n",
       "      <td>openfoodfacts-contributors</td>\n",
       "      <td>1474103866</td>\n",
       "      <td>2016-09-17T09:17:46Z</td>\n",
       "      <td>1474103893</td>\n",
       "      <td>2016-09-17T09:18:13Z</td>\n",
       "      <td>Farine de blé noir</td>\n",
       "      <td>NaN</td>\n",
       "      <td>1kg</td>\n",
       "      <td>...</td>\n",
       "      <td>NaN</td>\n",
       "      <td>NaN</td>\n",
       "      <td>NaN</td>\n",
       "      <td>NaN</td>\n",
       "      <td>NaN</td>\n",
       "      <td>NaN</td>\n",
       "      <td>NaN</td>\n",
       "      <td>NaN</td>\n",
       "      <td>NaN</td>\n",
       "      <td>NaN</td>\n",
       "    </tr>\n",
       "    <tr>\n",
       "      <td>1</td>\n",
       "      <td>0000000004530</td>\n",
       "      <td>http://world-en.openfoodfacts.org/product/0000...</td>\n",
       "      <td>usda-ndb-import</td>\n",
       "      <td>1489069957</td>\n",
       "      <td>2017-03-09T14:32:37Z</td>\n",
       "      <td>1489069957</td>\n",
       "      <td>2017-03-09T14:32:37Z</td>\n",
       "      <td>Banana Chips Sweetened (Whole)</td>\n",
       "      <td>NaN</td>\n",
       "      <td>NaN</td>\n",
       "      <td>...</td>\n",
       "      <td>NaN</td>\n",
       "      <td>NaN</td>\n",
       "      <td>NaN</td>\n",
       "      <td>NaN</td>\n",
       "      <td>NaN</td>\n",
       "      <td>NaN</td>\n",
       "      <td>14.0</td>\n",
       "      <td>14.0</td>\n",
       "      <td>NaN</td>\n",
       "      <td>NaN</td>\n",
       "    </tr>\n",
       "    <tr>\n",
       "      <td>2</td>\n",
       "      <td>0000000004559</td>\n",
       "      <td>http://world-en.openfoodfacts.org/product/0000...</td>\n",
       "      <td>usda-ndb-import</td>\n",
       "      <td>1489069957</td>\n",
       "      <td>2017-03-09T14:32:37Z</td>\n",
       "      <td>1489069957</td>\n",
       "      <td>2017-03-09T14:32:37Z</td>\n",
       "      <td>Peanuts</td>\n",
       "      <td>NaN</td>\n",
       "      <td>NaN</td>\n",
       "      <td>...</td>\n",
       "      <td>NaN</td>\n",
       "      <td>NaN</td>\n",
       "      <td>NaN</td>\n",
       "      <td>NaN</td>\n",
       "      <td>NaN</td>\n",
       "      <td>NaN</td>\n",
       "      <td>0.0</td>\n",
       "      <td>0.0</td>\n",
       "      <td>NaN</td>\n",
       "      <td>NaN</td>\n",
       "    </tr>\n",
       "    <tr>\n",
       "      <td>3</td>\n",
       "      <td>0000000016087</td>\n",
       "      <td>http://world-en.openfoodfacts.org/product/0000...</td>\n",
       "      <td>usda-ndb-import</td>\n",
       "      <td>1489055731</td>\n",
       "      <td>2017-03-09T10:35:31Z</td>\n",
       "      <td>1489055731</td>\n",
       "      <td>2017-03-09T10:35:31Z</td>\n",
       "      <td>Organic Salted Nut Mix</td>\n",
       "      <td>NaN</td>\n",
       "      <td>NaN</td>\n",
       "      <td>...</td>\n",
       "      <td>NaN</td>\n",
       "      <td>NaN</td>\n",
       "      <td>NaN</td>\n",
       "      <td>NaN</td>\n",
       "      <td>NaN</td>\n",
       "      <td>NaN</td>\n",
       "      <td>12.0</td>\n",
       "      <td>12.0</td>\n",
       "      <td>NaN</td>\n",
       "      <td>NaN</td>\n",
       "    </tr>\n",
       "    <tr>\n",
       "      <td>4</td>\n",
       "      <td>0000000016094</td>\n",
       "      <td>http://world-en.openfoodfacts.org/product/0000...</td>\n",
       "      <td>usda-ndb-import</td>\n",
       "      <td>1489055653</td>\n",
       "      <td>2017-03-09T10:34:13Z</td>\n",
       "      <td>1489055653</td>\n",
       "      <td>2017-03-09T10:34:13Z</td>\n",
       "      <td>Organic Polenta</td>\n",
       "      <td>NaN</td>\n",
       "      <td>NaN</td>\n",
       "      <td>...</td>\n",
       "      <td>NaN</td>\n",
       "      <td>NaN</td>\n",
       "      <td>NaN</td>\n",
       "      <td>NaN</td>\n",
       "      <td>NaN</td>\n",
       "      <td>NaN</td>\n",
       "      <td>NaN</td>\n",
       "      <td>NaN</td>\n",
       "      <td>NaN</td>\n",
       "      <td>NaN</td>\n",
       "    </tr>\n",
       "  </tbody>\n",
       "</table>\n",
       "<p>5 rows × 163 columns</p>\n",
       "</div>"
      ],
      "text/plain": [
       "            code                                                url  \\\n",
       "0  0000000003087  http://world-en.openfoodfacts.org/product/0000...   \n",
       "1  0000000004530  http://world-en.openfoodfacts.org/product/0000...   \n",
       "2  0000000004559  http://world-en.openfoodfacts.org/product/0000...   \n",
       "3  0000000016087  http://world-en.openfoodfacts.org/product/0000...   \n",
       "4  0000000016094  http://world-en.openfoodfacts.org/product/0000...   \n",
       "\n",
       "                      creator   created_t      created_datetime  \\\n",
       "0  openfoodfacts-contributors  1474103866  2016-09-17T09:17:46Z   \n",
       "1             usda-ndb-import  1489069957  2017-03-09T14:32:37Z   \n",
       "2             usda-ndb-import  1489069957  2017-03-09T14:32:37Z   \n",
       "3             usda-ndb-import  1489055731  2017-03-09T10:35:31Z   \n",
       "4             usda-ndb-import  1489055653  2017-03-09T10:34:13Z   \n",
       "\n",
       "  last_modified_t last_modified_datetime                    product_name  \\\n",
       "0      1474103893   2016-09-17T09:18:13Z              Farine de blé noir   \n",
       "1      1489069957   2017-03-09T14:32:37Z  Banana Chips Sweetened (Whole)   \n",
       "2      1489069957   2017-03-09T14:32:37Z                         Peanuts   \n",
       "3      1489055731   2017-03-09T10:35:31Z          Organic Salted Nut Mix   \n",
       "4      1489055653   2017-03-09T10:34:13Z                 Organic Polenta   \n",
       "\n",
       "  generic_name quantity  ... fruits-vegetables-nuts_100g  \\\n",
       "0          NaN      1kg  ...                         NaN   \n",
       "1          NaN      NaN  ...                         NaN   \n",
       "2          NaN      NaN  ...                         NaN   \n",
       "3          NaN      NaN  ...                         NaN   \n",
       "4          NaN      NaN  ...                         NaN   \n",
       "\n",
       "  fruits-vegetables-nuts-estimate_100g collagen-meat-protein-ratio_100g  \\\n",
       "0                                  NaN                              NaN   \n",
       "1                                  NaN                              NaN   \n",
       "2                                  NaN                              NaN   \n",
       "3                                  NaN                              NaN   \n",
       "4                                  NaN                              NaN   \n",
       "\n",
       "  cocoa_100g chlorophyl_100g carbon-footprint_100g nutrition-score-fr_100g  \\\n",
       "0        NaN             NaN                   NaN                     NaN   \n",
       "1        NaN             NaN                   NaN                    14.0   \n",
       "2        NaN             NaN                   NaN                     0.0   \n",
       "3        NaN             NaN                   NaN                    12.0   \n",
       "4        NaN             NaN                   NaN                     NaN   \n",
       "\n",
       "  nutrition-score-uk_100g glycemic-index_100g water-hardness_100g  \n",
       "0                     NaN                 NaN                 NaN  \n",
       "1                    14.0                 NaN                 NaN  \n",
       "2                     0.0                 NaN                 NaN  \n",
       "3                    12.0                 NaN                 NaN  \n",
       "4                     NaN                 NaN                 NaN  \n",
       "\n",
       "[5 rows x 163 columns]"
      ]
     },
     "execution_count": 41,
     "metadata": {},
     "output_type": "execute_result"
    }
   ],
   "source": [
    "food.head()"
   ]
  },
  {
   "cell_type": "markdown",
   "metadata": {
    "collapsed": true
   },
   "source": [
    "Сколько наблюдений в наборе данных?\n"
   ]
  },
  {
   "cell_type": "code",
   "execution_count": 43,
   "metadata": {},
   "outputs": [
    {
     "name": "stdout",
     "output_type": "stream",
     "text": [
      "356027\n",
      "356027\n",
      "356027\n",
      "356027\n"
     ]
    }
   ],
   "source": [
    "print(food.shape[0]) # вариант 1, наиболее понятный\n",
    "print(food.iloc[:,5].count()) # вариант 2, но, тут нужно проверять, что нет пропусков - например, для первых столбцов результат отображает меньший\n",
    "len(food.index) # вариант 3, наиболее быстрый по скорости выполнения: https://stackoverflow.com/questions/15943769/how-do-i-get-the-row-count-of-a-pandas-dataframe\n",
    "print(food.shape[0])\n",
    "len(food.index)\n",
    "print(food.shape[0])"
   ]
  },
  {
   "cell_type": "markdown",
   "metadata": {
    "collapsed": true
   },
   "source": [
    "Сколько столбцов в наборе данных?"
   ]
  },
  {
   "cell_type": "code",
   "execution_count": 46,
   "metadata": {},
   "outputs": [
    {
     "data": {
      "text/plain": [
       "163"
      ]
     },
     "execution_count": 46,
     "metadata": {},
     "output_type": "execute_result"
    }
   ],
   "source": [
    "food.columns.size"
   ]
  },
  {
   "cell_type": "markdown",
   "metadata": {
    "collapsed": true
   },
   "source": [
    "Напечатайте все названия столбцов"
   ]
  },
  {
   "cell_type": "code",
   "execution_count": 48,
   "metadata": {},
   "outputs": [
    {
     "name": "stdout",
     "output_type": "stream",
     "text": [
      "['code' 'url' 'creator' 'created_t' 'created_datetime' 'last_modified_t'\n",
      " 'last_modified_datetime' 'product_name' 'generic_name' 'quantity'\n",
      " 'packaging' 'packaging_tags' 'brands' 'brands_tags' 'categories'\n",
      " 'categories_tags' 'categories_en' 'origins' 'origins_tags'\n",
      " 'manufacturing_places' 'manufacturing_places_tags' 'labels' 'labels_tags'\n",
      " 'labels_en' 'emb_codes' 'emb_codes_tags' 'first_packaging_code_geo'\n",
      " 'cities' 'cities_tags' 'purchase_places' 'stores' 'countries'\n",
      " 'countries_tags' 'countries_en' 'ingredients_text' 'allergens'\n",
      " 'allergens_en' 'traces' 'traces_tags' 'traces_en' 'serving_size'\n",
      " 'no_nutriments' 'additives_n' 'additives' 'additives_tags' 'additives_en'\n",
      " 'ingredients_from_palm_oil_n' 'ingredients_from_palm_oil'\n",
      " 'ingredients_from_palm_oil_tags'\n",
      " 'ingredients_that_may_be_from_palm_oil_n'\n",
      " 'ingredients_that_may_be_from_palm_oil'\n",
      " 'ingredients_that_may_be_from_palm_oil_tags' 'nutrition_grade_uk'\n",
      " 'nutrition_grade_fr' 'pnns_groups_1' 'pnns_groups_2' 'states'\n",
      " 'states_tags' 'states_en' 'main_category' 'main_category_en' 'image_url'\n",
      " 'image_small_url' 'energy_100g' 'energy-from-fat_100g' 'fat_100g'\n",
      " 'saturated-fat_100g' '-butyric-acid_100g' '-caproic-acid_100g'\n",
      " '-caprylic-acid_100g' '-capric-acid_100g' '-lauric-acid_100g'\n",
      " '-myristic-acid_100g' '-palmitic-acid_100g' '-stearic-acid_100g'\n",
      " '-arachidic-acid_100g' '-behenic-acid_100g' '-lignoceric-acid_100g'\n",
      " '-cerotic-acid_100g' '-montanic-acid_100g' '-melissic-acid_100g'\n",
      " 'monounsaturated-fat_100g' 'polyunsaturated-fat_100g' 'omega-3-fat_100g'\n",
      " '-alpha-linolenic-acid_100g' '-eicosapentaenoic-acid_100g'\n",
      " '-docosahexaenoic-acid_100g' 'omega-6-fat_100g' '-linoleic-acid_100g'\n",
      " '-arachidonic-acid_100g' '-gamma-linolenic-acid_100g'\n",
      " '-dihomo-gamma-linolenic-acid_100g' 'omega-9-fat_100g' '-oleic-acid_100g'\n",
      " '-elaidic-acid_100g' '-gondoic-acid_100g' '-mead-acid_100g'\n",
      " '-erucic-acid_100g' '-nervonic-acid_100g' 'trans-fat_100g'\n",
      " 'cholesterol_100g' 'carbohydrates_100g' 'sugars_100g' '-sucrose_100g'\n",
      " '-glucose_100g' '-fructose_100g' '-lactose_100g' '-maltose_100g'\n",
      " '-maltodextrins_100g' 'starch_100g' 'polyols_100g' 'fiber_100g'\n",
      " 'proteins_100g' 'casein_100g' 'serum-proteins_100g' 'nucleotides_100g'\n",
      " 'salt_100g' 'sodium_100g' 'alcohol_100g' 'vitamin-a_100g'\n",
      " 'beta-carotene_100g' 'vitamin-d_100g' 'vitamin-e_100g' 'vitamin-k_100g'\n",
      " 'vitamin-c_100g' 'vitamin-b1_100g' 'vitamin-b2_100g' 'vitamin-pp_100g'\n",
      " 'vitamin-b6_100g' 'vitamin-b9_100g' 'folates_100g' 'vitamin-b12_100g'\n",
      " 'biotin_100g' 'pantothenic-acid_100g' 'silica_100g' 'bicarbonate_100g'\n",
      " 'potassium_100g' 'chloride_100g' 'calcium_100g' 'phosphorus_100g'\n",
      " 'iron_100g' 'magnesium_100g' 'zinc_100g' 'copper_100g' 'manganese_100g'\n",
      " 'fluoride_100g' 'selenium_100g' 'chromium_100g' 'molybdenum_100g'\n",
      " 'iodine_100g' 'caffeine_100g' 'taurine_100g' 'ph_100g'\n",
      " 'fruits-vegetables-nuts_100g' 'fruits-vegetables-nuts-estimate_100g'\n",
      " 'collagen-meat-protein-ratio_100g' 'cocoa_100g' 'chlorophyl_100g'\n",
      " 'carbon-footprint_100g' 'nutrition-score-fr_100g'\n",
      " 'nutrition-score-uk_100g' 'glycemic-index_100g' 'water-hardness_100g']\n"
     ]
    }
   ],
   "source": [
    "print(food.columns.values)"
   ]
  },
  {
   "cell_type": "markdown",
   "metadata": {
    "collapsed": true
   },
   "source": [
    "Какое название у 105 столбца?"
   ]
  },
  {
   "cell_type": "code",
   "execution_count": 49,
   "metadata": {},
   "outputs": [
    {
     "data": {
      "text/plain": [
       "'-glucose_100g'"
      ]
     },
     "execution_count": 49,
     "metadata": {},
     "output_type": "execute_result"
    }
   ],
   "source": [
    "food.columns[104]"
   ]
  },
  {
   "cell_type": "markdown",
   "metadata": {},
   "source": [
    "Какой тип наблюдений в 105 столбце?"
   ]
  },
  {
   "cell_type": "code",
   "execution_count": 53,
   "metadata": {},
   "outputs": [
    {
     "data": {
      "text/plain": [
       "dtype('float64')"
      ]
     },
     "execution_count": 53,
     "metadata": {},
     "output_type": "execute_result"
    }
   ],
   "source": [
    "food.dtypes[104]"
   ]
  },
  {
   "cell_type": "markdown",
   "metadata": {},
   "source": [
    "Как проиндексирован набор данных?"
   ]
  },
  {
   "cell_type": "code",
   "execution_count": 54,
   "metadata": {},
   "outputs": [
    {
     "name": "stdout",
     "output_type": "stream",
     "text": [
      "RangeIndex(start=0, stop=356027, step=1)\n"
     ]
    }
   ],
   "source": [
    "print(food.index)"
   ]
  },
  {
   "cell_type": "markdown",
   "metadata": {},
   "source": [
    "Каково значение имени продукта в 19-м наблюдении?"
   ]
  },
  {
   "cell_type": "code",
   "execution_count": 58,
   "metadata": {},
   "outputs": [
    {
     "data": {
      "text/plain": [
       "'0000000003087'"
      ]
     },
     "execution_count": 58,
     "metadata": {},
     "output_type": "execute_result"
    }
   ],
   "source": [
    "food.iloc[18].loc['product_name']\n",
    "food.iloc[0].loc['code']"
   ]
  },
  {
   "cell_type": "markdown",
   "metadata": {},
   "source": [
    "## Pandas - фильтрация данных"
   ]
  },
  {
   "cell_type": "markdown",
   "metadata": {},
   "source": [
    "Считать данные по  [адресу](https://raw.githubusercontent.com/justmarkham/DAT8/master/data/chipotle.tsv). \n",
    "Присвоить переменной chipo"
   ]
  },
  {
   "cell_type": "code",
   "execution_count": 59,
   "metadata": {},
   "outputs": [],
   "source": [
    "import pandas as pd\n",
    "import requests\n",
    "import io"
   ]
  },
  {
   "cell_type": "code",
   "execution_count": 60,
   "metadata": {},
   "outputs": [
    {
     "data": {
      "text/html": [
       "<div>\n",
       "<style scoped>\n",
       "    .dataframe tbody tr th:only-of-type {\n",
       "        vertical-align: middle;\n",
       "    }\n",
       "\n",
       "    .dataframe tbody tr th {\n",
       "        vertical-align: top;\n",
       "    }\n",
       "\n",
       "    .dataframe thead th {\n",
       "        text-align: right;\n",
       "    }\n",
       "</style>\n",
       "<table border=\"1\" class=\"dataframe\">\n",
       "  <thead>\n",
       "    <tr style=\"text-align: right;\">\n",
       "      <th></th>\n",
       "      <th>order_id</th>\n",
       "      <th>quantity</th>\n",
       "      <th>item_name</th>\n",
       "      <th>choice_description</th>\n",
       "      <th>item_price</th>\n",
       "    </tr>\n",
       "  </thead>\n",
       "  <tbody>\n",
       "    <tr>\n",
       "      <td>0</td>\n",
       "      <td>1</td>\n",
       "      <td>1</td>\n",
       "      <td>Chips and Fresh Tomato Salsa</td>\n",
       "      <td>NaN</td>\n",
       "      <td>$2.39</td>\n",
       "    </tr>\n",
       "    <tr>\n",
       "      <td>1</td>\n",
       "      <td>1</td>\n",
       "      <td>1</td>\n",
       "      <td>Izze</td>\n",
       "      <td>[Clementine]</td>\n",
       "      <td>$3.39</td>\n",
       "    </tr>\n",
       "    <tr>\n",
       "      <td>2</td>\n",
       "      <td>1</td>\n",
       "      <td>1</td>\n",
       "      <td>Nantucket Nectar</td>\n",
       "      <td>[Apple]</td>\n",
       "      <td>$3.39</td>\n",
       "    </tr>\n",
       "    <tr>\n",
       "      <td>3</td>\n",
       "      <td>1</td>\n",
       "      <td>1</td>\n",
       "      <td>Chips and Tomatillo-Green Chili Salsa</td>\n",
       "      <td>NaN</td>\n",
       "      <td>$2.39</td>\n",
       "    </tr>\n",
       "    <tr>\n",
       "      <td>4</td>\n",
       "      <td>2</td>\n",
       "      <td>2</td>\n",
       "      <td>Chicken Bowl</td>\n",
       "      <td>[Tomatillo-Red Chili Salsa (Hot), [Black Beans...</td>\n",
       "      <td>$16.98</td>\n",
       "    </tr>\n",
       "  </tbody>\n",
       "</table>\n",
       "</div>"
      ],
      "text/plain": [
       "   order_id  quantity                              item_name  \\\n",
       "0         1         1           Chips and Fresh Tomato Salsa   \n",
       "1         1         1                                   Izze   \n",
       "2         1         1                       Nantucket Nectar   \n",
       "3         1         1  Chips and Tomatillo-Green Chili Salsa   \n",
       "4         2         2                           Chicken Bowl   \n",
       "\n",
       "                                  choice_description item_price  \n",
       "0                                                NaN     $2.39   \n",
       "1                                       [Clementine]     $3.39   \n",
       "2                                            [Apple]     $3.39   \n",
       "3                                                NaN     $2.39   \n",
       "4  [Tomatillo-Red Chili Salsa (Hot), [Black Beans...    $16.98   "
      ]
     },
     "execution_count": 60,
     "metadata": {},
     "output_type": "execute_result"
    }
   ],
   "source": [
    "url = 'https://raw.githubusercontent.com/justmarkham/DAT8/master/data/chipotle.tsv'\n",
    "\n",
    "r = requests.get(url)\n",
    "if r.ok:\n",
    "    data = r.content.decode('utf8')\n",
    "    chipo = pd.read_csv(io.StringIO(data), delimiter='\\t',encoding='utf-8', low_memory=False)\n",
    "    \n",
    "chipo.head()"
   ]
  },
  {
   "cell_type": "markdown",
   "metadata": {},
   "source": [
    "Как много продуктов стоят более чем $10.00?"
   ]
  },
  {
   "cell_type": "code",
   "execution_count": 65,
   "metadata": {},
   "outputs": [
    {
     "data": {
      "text/plain": [
       "1130"
      ]
     },
     "execution_count": 65,
     "metadata": {},
     "output_type": "execute_result"
    }
   ],
   "source": [
    "chipo['item_price_float'] = chipo['item_price'].map(lambda price: float(price[1:]))\n",
    "filter = chipo[chipo['item_price_float'] > 10.00]\n",
    "len(filter)"
   ]
  },
  {
   "cell_type": "markdown",
   "metadata": {},
   "source": [
    "Какова цена каждого предмета? Напечатать столбцы item_name и item_price"
   ]
  },
  {
   "cell_type": "code",
   "execution_count": 67,
   "metadata": {},
   "outputs": [
    {
     "name": "stdout",
     "output_type": "stream",
     "text": [
      "                                  item_name item_price\n",
      "0              Chips and Fresh Tomato Salsa     $2.39 \n",
      "1                                      Izze     $3.39 \n",
      "2                          Nantucket Nectar     $3.39 \n",
      "3     Chips and Tomatillo-Green Chili Salsa     $2.39 \n",
      "4                              Chicken Bowl    $16.98 \n",
      "...                                     ...        ...\n",
      "4617                          Steak Burrito    $11.75 \n",
      "4618                          Steak Burrito    $11.75 \n",
      "4619                     Chicken Salad Bowl    $11.25 \n",
      "4620                     Chicken Salad Bowl     $8.75 \n",
      "4621                     Chicken Salad Bowl     $8.75 \n",
      "\n",
      "[4622 rows x 2 columns]\n"
     ]
    }
   ],
   "source": [
    "print(chipo.loc[:, ['item_name', 'item_price']])"
   ]
  },
  {
   "cell_type": "markdown",
   "metadata": {},
   "source": [
    "Отсортировать по имени предмета"
   ]
  },
  {
   "cell_type": "code",
   "execution_count": 68,
   "metadata": {},
   "outputs": [
    {
     "data": {
      "text/html": [
       "<div>\n",
       "<style scoped>\n",
       "    .dataframe tbody tr th:only-of-type {\n",
       "        vertical-align: middle;\n",
       "    }\n",
       "\n",
       "    .dataframe tbody tr th {\n",
       "        vertical-align: top;\n",
       "    }\n",
       "\n",
       "    .dataframe thead th {\n",
       "        text-align: right;\n",
       "    }\n",
       "</style>\n",
       "<table border=\"1\" class=\"dataframe\">\n",
       "  <thead>\n",
       "    <tr style=\"text-align: right;\">\n",
       "      <th></th>\n",
       "      <th>order_id</th>\n",
       "      <th>quantity</th>\n",
       "      <th>item_name</th>\n",
       "      <th>choice_description</th>\n",
       "      <th>item_price</th>\n",
       "      <th>item_price_float</th>\n",
       "    </tr>\n",
       "  </thead>\n",
       "  <tbody>\n",
       "    <tr>\n",
       "      <td>3389</td>\n",
       "      <td>1360</td>\n",
       "      <td>2</td>\n",
       "      <td>6 Pack Soft Drink</td>\n",
       "      <td>[Diet Coke]</td>\n",
       "      <td>$12.98</td>\n",
       "      <td>12.98</td>\n",
       "    </tr>\n",
       "    <tr>\n",
       "      <td>341</td>\n",
       "      <td>148</td>\n",
       "      <td>1</td>\n",
       "      <td>6 Pack Soft Drink</td>\n",
       "      <td>[Diet Coke]</td>\n",
       "      <td>$6.49</td>\n",
       "      <td>6.49</td>\n",
       "    </tr>\n",
       "    <tr>\n",
       "      <td>1849</td>\n",
       "      <td>749</td>\n",
       "      <td>1</td>\n",
       "      <td>6 Pack Soft Drink</td>\n",
       "      <td>[Coke]</td>\n",
       "      <td>$6.49</td>\n",
       "      <td>6.49</td>\n",
       "    </tr>\n",
       "    <tr>\n",
       "      <td>1860</td>\n",
       "      <td>754</td>\n",
       "      <td>1</td>\n",
       "      <td>6 Pack Soft Drink</td>\n",
       "      <td>[Diet Coke]</td>\n",
       "      <td>$6.49</td>\n",
       "      <td>6.49</td>\n",
       "    </tr>\n",
       "    <tr>\n",
       "      <td>2713</td>\n",
       "      <td>1076</td>\n",
       "      <td>1</td>\n",
       "      <td>6 Pack Soft Drink</td>\n",
       "      <td>[Coke]</td>\n",
       "      <td>$6.49</td>\n",
       "      <td>6.49</td>\n",
       "    </tr>\n",
       "    <tr>\n",
       "      <td>...</td>\n",
       "      <td>...</td>\n",
       "      <td>...</td>\n",
       "      <td>...</td>\n",
       "      <td>...</td>\n",
       "      <td>...</td>\n",
       "      <td>...</td>\n",
       "    </tr>\n",
       "    <tr>\n",
       "      <td>2384</td>\n",
       "      <td>948</td>\n",
       "      <td>1</td>\n",
       "      <td>Veggie Soft Tacos</td>\n",
       "      <td>[Roasted Chili Corn Salsa, [Fajita Vegetables,...</td>\n",
       "      <td>$8.75</td>\n",
       "      <td>8.75</td>\n",
       "    </tr>\n",
       "    <tr>\n",
       "      <td>781</td>\n",
       "      <td>322</td>\n",
       "      <td>1</td>\n",
       "      <td>Veggie Soft Tacos</td>\n",
       "      <td>[Fresh Tomato Salsa, [Black Beans, Cheese, Sou...</td>\n",
       "      <td>$8.75</td>\n",
       "      <td>8.75</td>\n",
       "    </tr>\n",
       "    <tr>\n",
       "      <td>2851</td>\n",
       "      <td>1132</td>\n",
       "      <td>1</td>\n",
       "      <td>Veggie Soft Tacos</td>\n",
       "      <td>[Roasted Chili Corn Salsa (Medium), [Black Bea...</td>\n",
       "      <td>$8.49</td>\n",
       "      <td>8.49</td>\n",
       "    </tr>\n",
       "    <tr>\n",
       "      <td>1699</td>\n",
       "      <td>688</td>\n",
       "      <td>1</td>\n",
       "      <td>Veggie Soft Tacos</td>\n",
       "      <td>[Fresh Tomato Salsa, [Fajita Vegetables, Rice,...</td>\n",
       "      <td>$11.25</td>\n",
       "      <td>11.25</td>\n",
       "    </tr>\n",
       "    <tr>\n",
       "      <td>1395</td>\n",
       "      <td>567</td>\n",
       "      <td>1</td>\n",
       "      <td>Veggie Soft Tacos</td>\n",
       "      <td>[Fresh Tomato Salsa (Mild), [Pinto Beans, Rice...</td>\n",
       "      <td>$8.49</td>\n",
       "      <td>8.49</td>\n",
       "    </tr>\n",
       "  </tbody>\n",
       "</table>\n",
       "<p>4622 rows × 6 columns</p>\n",
       "</div>"
      ],
      "text/plain": [
       "      order_id  quantity          item_name  \\\n",
       "3389      1360         2  6 Pack Soft Drink   \n",
       "341        148         1  6 Pack Soft Drink   \n",
       "1849       749         1  6 Pack Soft Drink   \n",
       "1860       754         1  6 Pack Soft Drink   \n",
       "2713      1076         1  6 Pack Soft Drink   \n",
       "...        ...       ...                ...   \n",
       "2384       948         1  Veggie Soft Tacos   \n",
       "781        322         1  Veggie Soft Tacos   \n",
       "2851      1132         1  Veggie Soft Tacos   \n",
       "1699       688         1  Veggie Soft Tacos   \n",
       "1395       567         1  Veggie Soft Tacos   \n",
       "\n",
       "                                     choice_description item_price  \\\n",
       "3389                                        [Diet Coke]    $12.98    \n",
       "341                                         [Diet Coke]     $6.49    \n",
       "1849                                             [Coke]     $6.49    \n",
       "1860                                        [Diet Coke]     $6.49    \n",
       "2713                                             [Coke]     $6.49    \n",
       "...                                                 ...        ...   \n",
       "2384  [Roasted Chili Corn Salsa, [Fajita Vegetables,...     $8.75    \n",
       "781   [Fresh Tomato Salsa, [Black Beans, Cheese, Sou...     $8.75    \n",
       "2851  [Roasted Chili Corn Salsa (Medium), [Black Bea...     $8.49    \n",
       "1699  [Fresh Tomato Salsa, [Fajita Vegetables, Rice,...    $11.25    \n",
       "1395  [Fresh Tomato Salsa (Mild), [Pinto Beans, Rice...     $8.49    \n",
       "\n",
       "      item_price_float  \n",
       "3389             12.98  \n",
       "341               6.49  \n",
       "1849              6.49  \n",
       "1860              6.49  \n",
       "2713              6.49  \n",
       "...                ...  \n",
       "2384              8.75  \n",
       "781               8.75  \n",
       "2851              8.49  \n",
       "1699             11.25  \n",
       "1395              8.49  \n",
       "\n",
       "[4622 rows x 6 columns]"
      ]
     },
     "execution_count": 68,
     "metadata": {},
     "output_type": "execute_result"
    }
   ],
   "source": [
    "chipo.sort_values(by=['item_name'])"
   ]
  },
  {
   "cell_type": "markdown",
   "metadata": {},
   "source": [
    "Сколько было заказано самого дорогого предмета?"
   ]
  },
  {
   "cell_type": "code",
   "execution_count": 60,
   "metadata": {},
   "outputs": [
    {
     "data": {
      "text/plain": [
       "15"
      ]
     },
     "execution_count": 60,
     "metadata": {},
     "output_type": "execute_result"
    }
   ],
   "source": [
    "# трактовака условия 1:\n",
    "#   в данных нет идентификатора предмета,\n",
    "#   то есть, с одним названием - могут встречаться разные предметы.\n",
    "#   Например, название совпадает, но цена разная - это разные предметы\n",
    "# решение 1:\n",
    "#   отсортировать по цене, взять первый.\n",
    "#   Взять значение из столбца quantity\n",
    "#   Ограничение: считаем, что только 1 запись с максимальной ценой\n",
    "chipo_sorted = chipo.sort_values(by=['item_price_float'], ascending=False)\n",
    "chipo_sorted.head()\n",
    "top_price = chipo_sorted.iloc[0,5]\n",
    "row_of_interest = chipo_sorted[chipo_sorted['item_price_float'] == top_price]\n",
    "assert len(row_of_interest) == 1\n",
    "row_of_interest.iloc[0, 1]\n"
   ]
  },
  {
   "cell_type": "code",
   "execution_count": 61,
   "metadata": {},
   "outputs": [
    {
     "data": {
      "text/plain": [
       "130"
      ]
     },
     "execution_count": 61,
     "metadata": {},
     "output_type": "execute_result"
    }
   ],
   "source": [
    "# трактовка условия 2: \n",
    "#   считаем, что идентификатор предмета - его название,\n",
    "#   и в других заказах этот предмет может быть с другой ценой.\n",
    "# решение:\n",
    "#   отсортировать по цене, взять первый, его название.\n",
    "#   Теперь из всего набора выбрать записи, в которых такой предмет.\n",
    "#   Просуммировать quantity.\n",
    "chipo_sorted = chipo.sort_values(by=['item_price_float'], ascending=False)\n",
    "top_item = chipo.sort_values(by=['item_price_float'], ascending=False).iloc[0,2] # если указать через loc - тогда не понятно как отметить первую строку, т.к. считает 0 как название\n",
    "rows_of_interest = chipo[chipo['item_name']==top_item]\n",
    "total_count = sum(rows_of_interest.loc[:,'quantity'])\n",
    "\n",
    "total_count"
   ]
  },
  {
   "cell_type": "markdown",
   "metadata": {},
   "source": [
    "Сколько раз был заказан предмет \"Veggie Salad Bowl\"?"
   ]
  },
  {
   "cell_type": "code",
   "execution_count": 62,
   "metadata": {},
   "outputs": [
    {
     "name": "stdout",
     "output_type": "stream",
     "text": [
      "18\n"
     ]
    },
    {
     "data": {
      "text/plain": [
       "18"
      ]
     },
     "execution_count": 62,
     "metadata": {},
     "output_type": "execute_result"
    }
   ],
   "source": [
    "rows_of_interest = chipo[chipo['item_name'] == 'Veggie Salad Bowl']\n",
    "# Решение 1: кол-во предметов, которые заказали в сумме\n",
    "print(sum(rows_of_interest['quantity']))\n",
    "# Решение 2: кол-во раз (строк), в которых заказывают этот предмет\n",
    "len(rows_of_interest)"
   ]
  },
  {
   "cell_type": "markdown",
   "metadata": {},
   "source": [
    "Сколько раз люди заказали более чем 1 предмет \"Canned Soda\"?"
   ]
  },
  {
   "cell_type": "code",
   "execution_count": 63,
   "metadata": {
    "scrolled": true
   },
   "outputs": [
    {
     "data": {
      "text/plain": [
       "20"
      ]
     },
     "execution_count": 63,
     "metadata": {},
     "output_type": "execute_result"
    }
   ],
   "source": [
    "rows_of_interest = chipo[(chipo['item_name'] == 'Canned Soda') & (chipo['quantity'] > 1)]\n",
    "len(rows_of_interest)"
   ]
  },
  {
   "cell_type": "code",
   "execution_count": 64,
   "metadata": {},
   "outputs": [
    {
     "name": "stdout",
     "output_type": "stream",
     "text": [
      "The End!\n"
     ]
    }
   ],
   "source": [
    "print('The End!')"
   ]
  },
  {
   "cell_type": "code",
   "execution_count": null,
   "metadata": {},
   "outputs": [],
   "source": []
  }
 ],
 "metadata": {
  "kernelspec": {
   "display_name": "Python 3",
   "language": "python",
   "name": "python3"
  },
  "language_info": {
   "codemirror_mode": {
    "name": "ipython",
    "version": 3
   },
   "file_extension": ".py",
   "mimetype": "text/x-python",
   "name": "python",
   "nbconvert_exporter": "python",
   "pygments_lexer": "ipython3",
   "version": "3.7.4"
  }
 },
 "nbformat": 4,
 "nbformat_minor": 2
}
